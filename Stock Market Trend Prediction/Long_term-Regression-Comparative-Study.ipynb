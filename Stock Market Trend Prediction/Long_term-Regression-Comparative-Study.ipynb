{
 "cells": [
  {
   "cell_type": "markdown",
   "metadata": {},
   "source": [
    "### Importing Libraries\n",
    "\n",
    "NumPy is a package in Python used for Scientific Computing. NumPy package is used to perform different operations.  \n",
    "Pandas is used for data manipulation and analysis. In particular, it offers data structures and operations for manipulating numerical tables and time series.\n",
    "Matplotlib is a plotting library for the Python programming language and its numerical mathematics extension NumPy.  \n",
    "Sklearn is a simple and efficient tool for data mining and data analysis built on numpy, scipy and matplotlib."
   ]
  },
  {
   "cell_type": "code",
   "execution_count": 1,
   "metadata": {},
   "outputs": [],
   "source": [
    "import numpy as np                      \n",
    "import pandas as pd                     \n",
    "import matplotlib.pyplot as plt\n",
    "\n",
    "from sklearn import preprocessing;\n",
    "from sklearn.model_selection import cross_validate;\n",
    "from sklearn.model_selection import train_test_split;\n",
    "from sklearn import linear_model;"
   ]
  },
  {
   "cell_type": "markdown",
   "metadata": {},
   "source": [
    "### Importing OS module\n",
    "\n",
    "It provides a way of using operating system dependent functionality. The functions that the OS module provides allows you to interface with the underlying operating system that Python is running on – be that Windows, Mac or Linux."
   ]
  },
  {
   "cell_type": "code",
   "execution_count": 2,
   "metadata": {},
   "outputs": [],
   "source": [
    "#import os\n",
    "#a = os.listdir(\"/Users/rounakbose/Git Local/SMP-Methodology-master/SMP_Datasets\")\n",
    "#print (a)"
   ]
  },
  {
   "cell_type": "markdown",
   "metadata": {},
   "source": [
    "### Reading the CSV file\n",
    "\n",
    "1. Load the CSV file of the dataset using the filepath, setting the DATE column as Index, so as to prevent complications observed during plotting.  \n",
    "2. Plot the existing dataset, to visualise the dataset."
   ]
  },
  {
   "cell_type": "code",
   "execution_count": 3,
   "metadata": {},
   "outputs": [
    {
     "data": {
      "text/plain": [
       "<matplotlib.axes._subplots.AxesSubplot at 0x225623980b8>"
      ]
     },
     "execution_count": 3,
     "metadata": {},
     "output_type": "execute_result"
    },
    {
     "data": {
      "image/png": "[encoded data removed]",
      "text/plain": [
       "<Figure size 432x288 with 1 Axes>"
      ]
     },
     "metadata": {
      "needs_background": "light"
     },
     "output_type": "display_data"
    }
   ],
   "source": [
    "df1 = pd.read_csv(\"SP500.csv\", index_col='DATE', parse_dates=True) \n",
    "df1.plot()"
   ]
  },
  {
   "cell_type": "markdown",
   "metadata": {},
   "source": [
    "### Tabularising the CSV file\n",
    "\n",
    "We have 2198 values of 'DATE' and the corresponding price of the 'SP500' stock."
   ]
  },
  {
   "cell_type": "code",
   "execution_count": 4,
   "metadata": {},
   "outputs": [
    {
     "name": "stdout",
     "output_type": "stream",
     "text": [
      "         DATE    SP500\n",
      "0  2017-08-30  2457.59\n",
      "1  2017-08-29  2446.30\n",
      "2  2017-08-28  2444.24\n",
      "3  2017-08-25  2443.05\n",
      "4  2017-08-24  2438.97 \n",
      " . \n",
      " . \n",
      " .\n",
      "            DATE   SP500\n",
      "2193  2008-12-12  879.73\n",
      "2194  2008-12-11  873.59\n",
      "2195  2008-12-10  899.24\n",
      "2196  2008-12-09  888.67\n",
      "2197  2008-12-08  909.70\n"
     ]
    }
   ],
   "source": [
    "df = pd.read_csv(\"SP500.csv\") \n",
    "print(df.head(), '\\n', '.', '\\n', '.', '\\n', '.')\n",
    "print(df.tail())\n",
    "\n",
    "#print('\\nMethod 1:')\n",
    "#df1 = df.iloc[:, 0:1]\n",
    "#df1 = df.iloc[:,0:2]\n",
    "#print('\\n', df1.tail())\n",
    "#print('\\nMethod 2:')\n",
    "#df2 = df.drop('SP500', axis=1)\n",
    "#print('\\n', df2.tail())"
   ]
  },
  {
   "cell_type": "markdown",
   "metadata": {},
   "source": [
    "### Setting initial requirements\n",
    "\n",
    "1. Selecting the column on which we want to make the forecast.  \n",
    "2. Choosing the range till which we want to make the forecast.  \n",
    "3. Choosing the size (in %) of the test set.  \n",
    "\n",
    "Note: According to the dataset, there are approximately 252 values for one full year of SP500 data."
   ]
  },
  {
   "cell_type": "code",
   "execution_count": 5,
   "metadata": {},
   "outputs": [],
   "source": [
    "forecast_col = 'SP500'                       \n",
    "forecast_out = 120\n",
    "test_size = 0.1;"
   ]
  },
  {
   "cell_type": "markdown",
   "metadata": {},
   "source": [
    "### Defining the prepare_data() function\n",
    "\n",
    "#### Feature Engineering\n",
    "Step 1: Create new column called label with the last 5 rows as NaN.  \n",
    "Step 2: Create the feature array.  \n",
    "Step 3: Preprocess the feature array through feature scaling.  \n",
    "Step 4: Create the separate column to use in the predicting, later on.  \n",
    "Step 5: Create X, that will have the training and the testing data.  \n",
    "Step 6: Then drop the NA values assigned earlier.  \n",
    "Step 7: Assign the new column, label, to Y.\n",
    "\n",
    "#### Cross Validation\n",
    "Step 8: Run the train_test_split() on the engineered features according to the specified test_size"
   ]
  },
  {
   "cell_type": "code",
   "execution_count": 6,
   "metadata": {},
   "outputs": [],
   "source": [
    "def prepare_data(df, forecast_col, forecast_out, test_size):\n",
    "    \n",
    "    label = df[forecast_col].shift(-forecast_out);\n",
    "    X = np.array(df[[forecast_col]]);             \n",
    "    X = preprocessing.scale(X)                    \n",
    "    X_lately = X[-forecast_out:]                  \n",
    "    X = X[:-forecast_out]                         \n",
    "    label.dropna(inplace=True);                   \n",
    "    y = np.array(label)\n",
    "    \n",
    "    X_train, X_test, Y_train, Y_test = train_test_split(X, y, test_size=test_size) \n",
    "\n",
    "    response = [X_train, X_test, Y_train, Y_test, X_lately];\n",
    "    return response;"
   ]
  },
  {
   "cell_type": "markdown",
   "metadata": {},
   "source": [
    "### Calling prepare_data() for Feature Engineering and Cross Validation"
   ]
  },
  {
   "cell_type": "code",
   "execution_count": 7,
   "metadata": {},
   "outputs": [],
   "source": [
    "X_train, X_test, Y_train, Y_test , X_lately =prepare_data(df,forecast_col,forecast_out,test_size);"
   ]
  },
  {
   "cell_type": "markdown",
   "metadata": {},
   "source": [
    "### Defining the Regression models\n",
    "\n",
    "## 1. Linear Regression\n",
    "\n",
    "Initialise and train the Linear Regression model on the training data.  \n",
    "Test the score of the model by evaluating on the test data.  \n",
    "\n",
    "Calculate the predicted dataset and store the array."
   ]
  },
  {
   "cell_type": "code",
   "execution_count": 8,
   "metadata": {},
   "outputs": [],
   "source": [
    "learner = linear_model.LinearRegression();         \n",
    "\n",
    "learner.fit(X_train,Y_train);  \n",
    "score=learner.score(X_test,Y_test); \n",
    "lin_reg = score\n",
    "\n",
    "forecast= learner.predict(X_lately);"
   ]
  },
  {
   "cell_type": "markdown",
   "metadata": {},
   "source": [
    "### Visualising the predicted data\n",
    "\n",
    "Visualise the predicted dataset of stock prices.  \n",
    "Visualise the accuracy of the Linear regression model."
   ]
  },
  {
   "cell_type": "code",
   "execution_count": 9,
   "metadata": {},
   "outputs": [
    {
     "name": "stdout",
     "output_type": "stream",
     "text": [
      "{'test_score': 0.9447651054844836} \n",
      "\n",
      "{'test_score': 0.9447651054844836, 'forecast_set': array([876.73655208, 853.81335628, 841.92188808, 828.62005891,\n",
      "       845.30289041, 822.76609488, 824.05087576, 838.67612584,\n",
      "       843.17768895, 844.70397   , 818.78617213, 828.62971892,\n",
      "       819.79081283, 843.39020909, 844.24994968, 863.560303  ,\n",
      "       842.46284845, 854.19009654, 838.99490606, 842.31794835,\n",
      "       813.60840856, 809.05854543, 809.86032598, 792.00863367,\n",
      "       794.27873524, 802.70226105, 788.87879152, 780.79336594,\n",
      "       787.10135029, 770.01279851, 805.95768329, 801.80388043,\n",
      "       789.01403161, 778.81306458, 795.45725605, 793.36103461,\n",
      "       763.0286137 , 753.7453473 , 772.99774057, 779.77906525,\n",
      "       771.93513984, 749.42732432, 736.66645553, 726.67800864,\n",
      "       754.12208756, 770.46681883, 752.13212619, 744.63596102,\n",
      "       760.86477221, 708.333656  , 723.30666632, 733.26613318,\n",
      "       717.58794238, 694.18174624, 696.75130801, 691.13884415,\n",
      "       662.75774458, 661.05758341, 619.45193473, 626.06903929,\n",
      "       625.26725874, 654.55639893, 638.57874792, 642.9160909 ,\n",
      "       676.02093372, 693.15778554, 704.81741357, 712.77725906,\n",
      "       683.98077921, 709.792317  , 718.38006292, 727.53774923,\n",
      "       728.26224973, 764.65149482, 772.71760038, 771.31689941,\n",
      "       764.96061503, 806.23782348, 804.99168262, 783.01516748,\n",
      "       769.85823841, 775.92472259, 763.29909389, 763.72413418,\n",
      "       782.329307  , 810.29502628, 782.87992738, 774.0506813 ,\n",
      "       769.58775822, 765.28905526, 777.59590374, 743.76656042,\n",
      "       787.13999032, 780.97690607, 779.89498532, 808.07322475,\n",
      "       806.59524373, 826.00219711, 844.72329001, 841.74800796,\n",
      "       868.84432664, 861.84082181, 866.04292471, 838.4636057 ,\n",
      "       826.2823373 , 805.78380317, 809.04888542, 804.55698232,\n",
      "       799.736639  , 807.91866464, 823.61617546, 821.10457373,\n",
      "       839.59382648, 848.05599231, 804.9627026 , 815.74327004,\n",
      "       809.81202595, 834.58994303, 824.37931599, 844.69430999])}\n"
     ]
    }
   ],
   "source": [
    "response={};\n",
    "response['test_score']=score; \n",
    "\n",
    "print(response, '\\n');\n",
    "\n",
    "response['forecast_set']=forecast;\n",
    "\n",
    "print(response);\n",
    "#print('\\n', type(response))"
   ]
  },
  {
   "cell_type": "markdown",
   "metadata": {},
   "source": [
    "## 2. Ridge Regression\n",
    "\n",
    "Initialise and train the Ridge Regression model on the training data.  \n",
    "Test the score of the model by evaluating on the test data.  \n",
    "\n",
    "Calculate the predicted dataset and store the array.\n",
    "\n",
    "Visualise the predicted dataset of stock prices.  \n",
    "Visualise the accuracy of the Linear regression model."
   ]
  },
  {
   "cell_type": "code",
   "execution_count": 10,
   "metadata": {},
   "outputs": [
    {
     "name": "stdout",
     "output_type": "stream",
     "text": [
      "{'test_score': 0.9481707579519136} \n",
      "\n",
      "{'test_score': 0.9481707579519136, 'forecast_set': array([877.96741727, 855.08590099, 843.21605416, 829.93841071,\n",
      "       846.59090907, 824.09509049, 825.37753536, 839.97619345,\n",
      "       844.4695717 , 845.99307763, 820.12240414, 829.94805315,\n",
      "       821.12521817, 844.68170543, 845.53988283, 864.81512557,\n",
      "       843.75603094, 855.46195626, 840.29439405, 843.61139431,\n",
      "       814.95405491, 810.41246445, 811.21278718, 793.39355327,\n",
      "       795.65952728, 804.06773722, 790.26940187, 782.19867741,\n",
      "       788.49519243, 771.43771148, 807.31724038, 803.17099006,\n",
      "       790.40439606, 780.22197668, 796.83590527, 794.74349523,\n",
      "       764.46622548, 755.19983815, 774.41722624, 781.18622094,\n",
      "       773.35655755, 750.88966631, 738.15199964, 728.18171399,\n",
      "       755.57589341, 771.89090628, 753.58955023, 746.10701478,\n",
      "       762.30631834, 709.87071551, 724.81650153, 734.75785984,\n",
      "       719.10817551, 695.7445371 , 698.30942683, 692.70716769,\n",
      "       664.37767134, 662.68060144, 621.15060118, 627.75567436,\n",
      "       626.95535163, 656.19123758, 640.24263752, 644.57209425,\n",
      "       677.61674502, 694.72243819, 706.3608664 , 714.3062391 ,\n",
      "       685.56211772, 711.32672434, 719.8988558 , 729.03989139,\n",
      "       729.76307458, 766.08615584, 774.1375954 , 772.73944123,\n",
      "       766.394714  , 807.59687121, 806.35299612, 784.41643921,\n",
      "       771.2834324 , 777.33888635, 764.73621387, 765.16048135,\n",
      "       783.73182579, 811.6466971 , 784.28144502, 775.46825248,\n",
      "       771.013444  , 766.72255705, 779.00702892, 745.23919495,\n",
      "       788.5337622 , 782.38188382, 781.30193025, 809.4289353 ,\n",
      "       807.95364159, 827.32530876, 846.01236251, 843.04249019,\n",
      "       870.08954167, 863.09877079, 867.29323332, 839.76405971,\n",
      "       827.6049396 , 807.14367641, 810.40282201, 805.9190862 ,\n",
      "       801.10750734, 809.27465622, 824.94362544, 822.43659037,\n",
      "       840.89222549, 849.33900521, 806.32406879, 817.08503473,\n",
      "       811.16457497, 835.89744023, 825.70537841, 845.98343518])}\n"
     ]
    }
   ],
   "source": [
    "X_train, X_test, Y_train, Y_test , X_lately =prepare_data(df,forecast_col,forecast_out,test_size);\n",
    "\n",
    "learner = linear_model.Ridge();\n",
    "\n",
    "learner.fit(X_train,Y_train);   \n",
    "score=learner.score(X_test,Y_test);\n",
    "ridge_reg = score\n",
    "\n",
    "forecast= learner.predict(X_lately);\n",
    "\n",
    "response={};\n",
    "response['test_score']=score; \n",
    "\n",
    "print(response, '\\n');\n",
    "\n",
    "response['forecast_set']=forecast;\n",
    "\n",
    "print(response);"
   ]
  },
  {
   "cell_type": "markdown",
   "metadata": {},
   "source": [
    "## 3. Bayesian-Ridge Regression\n",
    "\n",
    "Initialise and train the Bayesian-Ridge Regression model on the training data.  \n",
    "Test the score of the model by evaluating on the test data.  \n",
    "\n",
    "Calculate the predicted dataset and store the array.\n",
    "\n",
    "Visualise the predicted dataset of stock prices.   \n",
    "Visualise the accuracy of the Linear regression model."
   ]
  },
  {
   "cell_type": "code",
   "execution_count": 11,
   "metadata": {},
   "outputs": [
    {
     "name": "stdout",
     "output_type": "stream",
     "text": [
      "{'test_score': 0.9463954457911963} \n",
      "\n",
      "{'test_score': 0.9463954457911963, 'forecast_set': array([874.70469119, 851.71940935, 839.79573386, 826.45787752,\n",
      "       843.18589342, 820.5880584 , 821.87631903, 836.54118068,\n",
      "       841.05493598, 842.58535087, 816.59735628, 826.46756369,\n",
      "       817.60471798, 841.26803173, 842.13010087, 861.49275506,\n",
      "       840.33815939, 852.09716999, 836.8608243 , 840.19286684,\n",
      "       811.40556907, 806.84338291, 807.64733504, 789.74729255,\n",
      "       792.02354254, 800.46988293, 786.60897341, 778.50164897,\n",
      "       784.82671809, 767.69188305, 803.73412228, 799.56906911,\n",
      "       786.74457979, 776.51598408, 793.2052553 , 791.10335637,\n",
      "       760.68878201, 751.38037247, 770.68490963, 777.4846011 ,\n",
      "       769.61943091, 747.0506544 , 734.25522359, 724.23972363,\n",
      "       751.7581331 , 768.14713305, 749.76278205, 742.24631399,\n",
      "       758.51907989, 705.84568646, 720.85925023, 730.84569169,\n",
      "       715.12503749, 691.65544714, 694.23196841, 688.60430354,\n",
      "       660.14633555, 658.4415696 , 616.72323464, 623.35826121,\n",
      "       622.55430909, 651.92277707, 635.90185159, 640.250942  ,\n",
      "       673.44544721, 690.6287131 , 702.31992051, 710.30132474,\n",
      "       681.42685143, 707.30829815, 715.91930344, 725.10179277,\n",
      "       725.82825553, 762.3160586 , 770.4040107 , 768.99951602,\n",
      "       762.62601604, 804.01502122, 802.76550527, 780.72946811,\n",
      "       767.53690433, 773.6198192 , 760.95999477, 761.38618626,\n",
      "       780.04175003, 808.08321269, 780.59386173, 771.74070218,\n",
      "       767.26569156, 762.95534583, 775.29552664, 741.37455867,\n",
      "       784.86546278, 778.6856862 , 777.60083514, 805.85539355,\n",
      "       804.37340952, 823.83292541, 842.60472321, 839.6213828 ,\n",
      "       866.79109015, 859.76861677, 863.9821008 , 836.32808494,\n",
      "       824.11382434, 803.55977122, 806.83369674, 802.32962761,\n",
      "       797.49622869, 805.70041483, 821.44044137, 818.92203712,\n",
      "       837.46136685, 845.94645192, 802.73644676, 813.54621268,\n",
      "       807.59890419, 832.44393069, 822.20564882, 842.5756647 ])}\n"
     ]
    }
   ],
   "source": [
    "X_train, X_test, Y_train, Y_test , X_lately =prepare_data(df,forecast_col,forecast_out,test_size);\n",
    "\n",
    "learner = linear_model.BayesianRidge(); \n",
    "\n",
    "learner.fit(X_train,Y_train);  \n",
    "score=learner.score(X_test,Y_test); \n",
    "bayesianridge_reg = score;\n",
    "\n",
    "forecast= learner.predict(X_lately);\n",
    "\n",
    "response={};\n",
    "response['test_score']=score; \n",
    "\n",
    "print(response, '\\n');\n",
    "\n",
    "response['forecast_set']=forecast;\n",
    "\n",
    "\n",
    "print(response);"
   ]
  },
  {
   "cell_type": "markdown",
   "metadata": {},
   "source": [
    "## 4. Lasso Regression\n",
    "\n",
    "Initialise and train the Lasso Regression model on the training data.  \n",
    "Test the score of the model by evaluating on the test data.  \n",
    "\n",
    "Calculate the predicted dataset and store the array.\n",
    "\n",
    "Visualise the predicted dataset of stock prices.  \n",
    "Visualise the accuracy of the Linear regression model."
   ]
  },
  {
   "cell_type": "code",
   "execution_count": 12,
   "metadata": {},
   "outputs": [
    {
     "name": "stdout",
     "output_type": "stream",
     "text": [
      "{'test_score': 0.9510861364190829} \n",
      "\n",
      "{'test_score': 0.9510861364190829, 'forecast_set': array([875.64179284, 852.65850212, 840.73585953, 827.3991586 ,\n",
      "       844.12572542, 821.52984795, 822.81799698, 837.48158828,\n",
      "       841.99495257, 843.52523489, 817.53949153, 827.40884393,\n",
      "       818.54676597, 842.20802986, 843.07002433, 862.43100121,\n",
      "       841.27823807, 853.03623004, 837.80120421, 841.13295811,\n",
      "       812.34815406, 807.78636311, 808.59024559, 790.6917537 ,\n",
      "       792.96780651, 801.41341524, 787.55370642, 779.44708429,\n",
      "       785.7716055 , 768.63825477, 804.67737182, 800.51267945,\n",
      "       787.68930106, 777.46159141, 794.14941691, 792.04770006,\n",
      "       761.63576038, 752.32815719, 771.63102209, 778.43012452,\n",
      "       770.56563566, 747.99881419, 735.20449179, 725.18985943,\n",
      "       752.7058851 , 769.09346534, 750.7107069 , 743.19488996,\n",
      "       759.46624622, 706.79741566, 721.80967887, 731.79525524,\n",
      "       716.07596286, 692.60840559, 695.18470366, 689.55752629,\n",
      "       661.1020235 , 659.39740522, 617.68268415, 624.31713595,\n",
      "       623.51325347, 652.87917739, 636.85963974, 641.2083534 ,\n",
      "       674.39998311, 691.58176049, 703.27195514, 711.25266797,\n",
      "       682.38069594, 708.25990065, 716.87016001, 726.0518539 ,\n",
      "       726.77825373, 763.26289601, 771.35014748, 769.94577447,\n",
      "       763.5728266 , 804.95824642, 803.70883871, 781.67471044,\n",
      "       768.48328948, 774.56567741, 761.90694965, 762.33310422,\n",
      "       780.98705193, 809.02608549, 781.53911581, 772.68672318,\n",
      "       768.2121002 , 763.90212786, 776.24123969, 742.32321016,\n",
      "       785.81034683, 779.63110558, 778.5463485 , 806.79845933,\n",
      "       805.31660367, 824.77443387, 843.54460555, 840.56152357,\n",
      "       867.72887733, 860.70701227, 864.9201313 , 837.26851099,\n",
      "       825.05530847, 804.50303586, 807.77667778, 803.27299881,\n",
      "       798.44001859, 806.64349404, 822.38215708, 819.863971  ,\n",
      "       838.40169473, 846.88604478, 803.67978272, 814.48861223,\n",
      "       808.54181893, 833.38469322, 823.14729824, 843.51554956])}\n"
     ]
    },
    {
     "data": {
      "text/plain": [
       "[<matplotlib.lines.Line2D at 0x22562546ac8>]"
      ]
     },
     "execution_count": 12,
     "metadata": {},
     "output_type": "execute_result"
    },
    {
     "data": {
      "image/png": "[encoded data removed]",
      "text/plain": [
       "<Figure size 432x288 with 1 Axes>"
      ]
     },
     "metadata": {
      "needs_background": "light"
     },
     "output_type": "display_data"
    }
   ],
   "source": [
    "X_train, X_test, Y_train, Y_test , X_lately =prepare_data(df,forecast_col,forecast_out,test_size);\n",
    "\n",
    "learner = linear_model.Lasso(alpha=0.1);\n",
    "\n",
    "learner.fit(X_train,Y_train);  \n",
    "score=learner.score(X_test,Y_test); \n",
    "lasso_reg = score\n",
    "\n",
    "forecast= learner.predict(X_lately);\n",
    "\n",
    "response={};\n",
    "response['test_score']=score; \n",
    "\n",
    "print(response, '\\n');\n",
    "\n",
    "response['forecast_set']=forecast;\n",
    "\n",
    "print(response);\n",
    "plt.plot('forecast_set')"
   ]
  },
  {
   "cell_type": "markdown",
   "metadata": {},
   "source": [
    "### Comparative Study\n",
    "\n",
    "Comparing the prediction scores of the models on the same dataset, when using:  \n",
    "1. Linear Regression model.  \n",
    "2. Ridge Regression model.  \n",
    "3. Bayesian Ridge Regression model.  \n",
    "4. Lasso Regression model."
   ]
  },
  {
   "cell_type": "code",
   "execution_count": 13,
   "metadata": {},
   "outputs": [
    {
     "name": "stdout",
     "output_type": "stream",
     "text": [
      "Linear Regression model score:\n",
      " 0.9447651054844836\n",
      "Ridge Regression model score:\n",
      " 0.9481707579519136\n",
      "Bayesian Ridge Regression model score:\n",
      " 0.9463954457911963\n",
      "Lasso Regression model score:\n",
      " 0.9510861364190829\n"
     ]
    }
   ],
   "source": [
    "print('Linear Regression model score:\\n', lin_reg)\n",
    "print('Ridge Regression model score:\\n', ridge_reg)\n",
    "print('Bayesian Ridge Regression model score:\\n', bayesianridge_reg)\n",
    "print('Lasso Regression model score:\\n', lasso_reg)"
   ]
  },
  {
   "cell_type": "code",
   "execution_count": 16,
   "metadata": {},
   "outputs": [
    {
     "data": {
      "image/png": "[encoded data removed]",
      "text/plain": [
       "<Figure size 432x288 with 1 Axes>"
      ]
     },
     "metadata": {
      "needs_background": "light"
     },
     "output_type": "display_data"
    }
   ],
   "source": [
    "plt.plot([lin_reg, ridge_reg, bayesianridge_reg, lasso_reg], 'ro')\n",
    "plt.axis([0, 3, 0.9, 1])\n",
    "plt.grid(True, color='blue')\n",
    "plt.xlabel('Regression models', fontsize=14, color='blue')\n",
    "plt.ylabel('Performance Score\\n', fontsize=14, color='blue')\n",
    "plt.title('Performance Comparison of Regression models\\n', fontsize=18, color='green')\n",
    "plt.show()"
   ]
  },
  {
   "cell_type": "code",
   "execution_count": 15,
   "metadata": {},
   "outputs": [
    {
     "data": {
      "image/png": "[encoded data removed]",
      "text/plain": [
       "<Figure size 432x288 with 1 Axes>"
      ]
     },
     "metadata": {
      "needs_background": "light"
     },
     "output_type": "display_data"
    }
   ],
   "source": [
    "objects = ('', 'Ridge', 'Linear', 'Lasso', 'Bayesian Ridge')\n",
    "y_pos = np.arange(len(objects))\n",
    "performance = [0, ridge_reg, lin_reg, lasso_reg, bayesianridge_reg]\n",
    " \n",
    "plt.bar(y_pos, performance, align='center', alpha=0.75, color='orange', width=0.8)\n",
    "plt.axis([1, 5, 0.932, 0.96])\n",
    "plt.grid(True, color='black')\n",
    "plt.xticks(y_pos, objects, fontsize=10)\n",
    "plt.xlabel('Regression  Models', fontsize=14, color='blue')\n",
    "plt.ylabel('Performance  Score', fontsize=14, color='blue')\n",
    "plt.title('Performance Comparison of Regression models\\n', fontsize=18, color='green') \n",
    "plt.show()"
   ]
  },
  {
   "cell_type": "markdown",
   "metadata": {},
   "source": [
    "### Conclusion\n",
    "\n",
    "From the comparative study done here, we can conclude that Linear Regression will perform with the least accuracy compared to the other models tested here.  \n",
    "Lasso Regression and Bayesian Ridge Regression are almost neck-to-neck with respect to the performance score.  \n",
    "Ridge Regression does work better than Linear Regression, but not as good as Bayesian Ridge Regression, or Lasso regression.\n",
    "\n",
    "#### For long-term stock market predictions, Lasso Regression turned out to perform the best with accuracy nearing 96%.\n",
    "\n",
    "There is, nonetheless, huge scope for improvement."
   ]
  },
  {
   "cell_type": "code",
   "execution_count": null,
   "metadata": {},
   "outputs": [],
   "source": []
  },
  {
   "cell_type": "code",
   "execution_count": null,
   "metadata": {},
   "outputs": [],
   "source": []
  },
  {
   "cell_type": "code",
   "execution_count": null,
   "metadata": {},
   "outputs": [],
   "source": []
  }
 ],
 "metadata": {
  "kernelspec": {
   "display_name": "Python 3",
   "language": "python",
   "name": "python3"
  },
  "language_info": {
   "codemirror_mode": {
    "name": "ipython",
    "version": 3
   },
   "file_extension": ".py",
   "mimetype": "text/x-python",
   "name": "python",
   "nbconvert_exporter": "python",
   "pygments_lexer": "ipython3",
   "version": "3.7.0"
  }
 },
 "nbformat": 4,
 "nbformat_minor": 2
}
