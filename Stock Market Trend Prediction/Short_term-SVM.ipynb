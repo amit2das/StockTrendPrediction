{
 "cells": [
  {
   "cell_type": "markdown",
   "metadata": {},
   "source": [
    "### Importing Libraries\n",
    "\n",
    "To pull data from a CSV file, you must use the reader function to generate a reader object.  \n",
    "NumPy is a package in Python used for Scientific Computing. NumPy package is used to perform different operations.  \n",
    "Sklearn is a simple and efficient tool for data mining and data analysis built on numpy, scipy and matplotlib.  \n",
    "Matplotlib is a plotting library for the Python programming language and its numerical mathematics extension NumPy.  "
   ]
  },
  {
   "cell_type": "code",
   "execution_count": 1,
   "metadata": {},
   "outputs": [],
   "source": [
    "import csv\n",
    "import numpy as np\n",
    "from sklearn.svm import SVR\n",
    "import matplotlib.pyplot as plt"
   ]
  },
  {
   "cell_type": "markdown",
   "metadata": {},
   "source": [
    "The SVR module imported from sklearn.svm carries out Support Vector Regression under the Support Vector Machine sub-library of sklearn.  \n",
    "There are three different implementations of Support Vector Regression: SVR, NuSVR and LinearSVR. LinearSVR provides a faster implementation than SVR but only considers linear kernels, while NuSVR implements a slightly different formulation than SVR and LinearSVR.\n",
    "\n",
    "### Initialising the 'dates' and 'prices' lists\n",
    "\n",
    "A list is a data structure in Python that is a mutable, or changeable, ordered sequence of elements. Each element or value that is inside of a list is called an item."
   ]
  },
  {
   "cell_type": "code",
   "execution_count": 2,
   "metadata": {},
   "outputs": [],
   "source": [
    "dates = []\n",
    "prices = []"
   ]
  },
  {
   "cell_type": "markdown",
   "metadata": {},
   "source": [
    "### Defining the get_data() function\n",
    "\n",
    "Step 1: Read the CSV file  \n",
    "Step 2: Skip the column names of the CSV file  \n",
    "Step 3: Read each row  \n",
    "Step 4: From each row, add element of 1st column to 'dates' list  \n",
    "Step 5: From each row, add element of 2nd column to 'prices' list  "
   ]
  },
  {
   "cell_type": "code",
   "execution_count": 3,
   "metadata": {},
   "outputs": [],
   "source": [
    "def get_data(filename):\n",
    "    with open(filename, 'r') as csvfile:\n",
    "        csvFileReader = csv.reader(csvfile)\n",
    "        next(csvFileReader)\n",
    "        for row in csvFileReader:\n",
    "            dates.append(int(row[0].split('-')[0]))\n",
    "            prices.append(float(row[1]))\n",
    "    return"
   ]
  },
  {
   "cell_type": "markdown",
   "metadata": {},
   "source": [
    "### Defining the predict_price() function\n",
    "\n",
    "Step 1: Convert the 'dates' list to a nx1 matrix.  \n",
    "Step 2: Defining the SVR models. Making the radial basis function (rbf), linear and polynomial kernels for the SVR model.  \n",
    "Step 3: Fitting the data points in the model.\n",
    "\n",
    "#### When this function is called, it will:\n",
    "Step 4: Scatter plot the initial data points in black.  \n",
    "Step 5: Plot the best-fit line by the RBF kernel in red.  \n",
    "Step 6: Plot the best-fit line by the linear kernel in green.  \n",
    "Step 7: Plot the best-fit line by the polynomial kernel in blue.  \n",
    "Step 8: Return as lines made by the:  \n",
    "a. RBF kernel  \n",
    "b. Linear kernel  \n",
    "c. Polynomial kernel"
   ]
  },
  {
   "cell_type": "code",
   "execution_count": 4,
   "metadata": {},
   "outputs": [],
   "source": [
    "def predict_price(dates, prices, x):\n",
    "    dates = np.reshape(dates,(len(dates), 1)) \n",
    "\n",
    "    svr_rbf = SVR(kernel= 'rbf', C= 1e3, gamma= 0.1) \n",
    "    svr_lin = SVR(kernel= 'linear', C= 1e3)\n",
    "    svr_poly = SVR(kernel= 'poly', C= 1e3, degree= 2)\n",
    "    svr_rbf.fit(dates, prices)\n",
    "    svr_lin.fit(dates, prices)\n",
    "    svr_poly.fit(dates, prices)\n",
    "\n",
    "    plt.scatter(dates, prices, color= 'black', label= 'Data') \n",
    "    plt.plot(dates, svr_rbf.predict(dates), color= 'red', label= 'RBF model') \n",
    "    plt.plot(dates,svr_lin.predict(dates), color= 'green', label= 'Linear model') \n",
    "    plt.plot(dates,svr_poly.predict(dates), color= 'blue', label= 'Polynomial model') \n",
    "    plt.xlabel('Date')\n",
    "    plt.ylabel('Price')\n",
    "    plt.title('Support Vector Regression')\n",
    "    plt.legend()\n",
    "    plt.show()\n",
    "\n",
    "    return svr_rbf.predict(x)[0], svr_lin.predict(x)[0], svr_poly.predict(x)[0]"
   ]
  },
  {
   "cell_type": "markdown",
   "metadata": {},
   "source": [
    "### Getting and reading the CSV file\n",
    "\n",
    "Actually calling the get_data() function."
   ]
  },
  {
   "cell_type": "code",
   "execution_count": 5,
   "metadata": {},
   "outputs": [
    {
     "name": "stdout",
     "output_type": "stream",
     "text": [
      "Dates-  [26, 25, 24, 23, 22, 19, 18, 17, 16, 12, 11, 10, 9, 8, 5, 4, 3, 2, 1]\n",
      "Prices-  [708.58, 700.01, 688.92, 701.45, 707.45, 695.03, 710.0, 699.0, 692.98, 690.26, 675.0, 686.86, 672.32, 667.85, 703.87, 722.81, 770.22, 784.5, 750.46]\n"
     ]
    }
   ],
   "source": [
    "get_data('/Users/rounakbose/Git Local/goog.csv') \n",
    "print (\"Dates- \", dates)\n",
    "print (\"Prices- \", prices)"
   ]
  },
  {
   "cell_type": "markdown",
   "metadata": {},
   "source": [
    "### Showing the results\n",
    "\n",
    "1. The predicted stock price for a new date, as calculated by the:\n",
    "a. RBF kernel\n",
    "b. Linear kernel\n",
    "c. Polynomial kernel\n",
    "2. The scatter plot."
   ]
  },
  {
   "cell_type": "code",
   "execution_count": 6,
   "metadata": {},
   "outputs": [
    {
     "data": {
      "image/png": "[encoded data removed]",
      "text/plain": [
       "<Figure size 432x288 with 1 Axes>"
      ]
     },
     "metadata": {},
     "output_type": "display_data"
    },
    {
     "name": "stdout",
     "output_type": "stream",
     "text": [
      "\n",
      "The stock open price for 29th Feb is:\n",
      "RBF kernel: $ 692.6220494803164\n",
      "Linear kernel: $ 694.2300000000146\n",
      "Polynomial kernel: $ 700.7592857577666\n"
     ]
    }
   ],
   "source": [
    "predicted_price = predict_price(dates, prices, 29)  \n",
    "print (\"\\nThe stock open price for 29th Feb is:\")\n",
    "print (\"RBF kernel: $\", str(predicted_price[0]))\n",
    "print (\"Linear kernel: $\", str(predicted_price[1]))\n",
    "print (\"Polynomial kernel: $\", str(predicted_price[2]))"
   ]
  },
  {
   "cell_type": "markdown",
   "metadata": {},
   "source": [
    "### Conclusion\n",
    "\n",
    "As evident from the plot above, the Polynomial kernel model did not work out better than the Linear kernel model.\n",
    "But, we can say with conviction, that the RBF kernel did a pretty good job at the regression.\n",
    "That said, we need to make sure that the RBF kernel model does not overfit to the training data.\n",
    "Now let us try even more advanced tools like an RNN, next, for short-term stock market predictions."
   ]
  }
 ],
 "metadata": {
  "kernelspec": {
   "display_name": "Python 3",
   "language": "python",
   "name": "python3"
  },
  "language_info": {
   "codemirror_mode": {
    "name": "ipython",
    "version": 3
   },
   "file_extension": ".py",
   "mimetype": "text/x-python",
   "name": "python",
   "nbconvert_exporter": "python",
   "pygments_lexer": "ipython3",
   "version": "3.6.5"
  }
 },
 "nbformat": 4,
 "nbformat_minor": 2
}
